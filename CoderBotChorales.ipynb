{
 "cells": [
  {
   "cell_type": "code",
   "execution_count": 48,
   "id": "1a340a8f",
   "metadata": {},
   "outputs": [],
   "source": [
    "import numpy as np\n",
    "import pandas as pd\n",
    "\n",
    "import fluidsynth\n",
    "import pretty_midi\n",
    "\n",
    "from IPython import display\n",
    "from scipy.io.wavfile import write\n",
    "\n",
    "import tensorflow as tf\n",
    "from tensorflow import keras"
   ]
  },
  {
   "cell_type": "code",
   "execution_count": 49,
   "id": "19fe030c",
   "metadata": {},
   "outputs": [
    {
     "data": {
      "text/plain": [
       "'testing_dir = \\nvalid_dir = '"
      ]
     },
     "execution_count": 49,
     "metadata": {},
     "output_type": "execute_result"
    }
   ],
   "source": [
    "training_dir = r\"C:\\Users\\jason\\Desktop\\DeepChatBot\\train\" \n",
    "'''testing_dir = \n",
    "valid_dir = '''"
   ]
  },
  {
   "cell_type": "code",
   "execution_count": 82,
   "id": "2400bdc2",
   "metadata": {},
   "outputs": [
    {
     "name": "stdout",
     "output_type": "stream",
     "text": [
      "[587 587 587 587 622 622 622 622 698 698 698 698 698 698 698 698 622 622\n",
      " 622 622 587 587 587 587 523 523 523 523 523 523 523 523 587 587 587 587\n",
      " 622 622 622 622 698 698 698 698 587 587 587 587 523 523 523 523 523 523\n",
      " 523 523 466 466 466 466 466 466 466 466 523 523 523 523 587 587 587 587\n",
      " 622 622 622 622 622 622 622 622 587 587 587 587 587 587 523 523 523 523\n",
      " 523 523 523 523 523 523 622 622 622 622 698 698 698 698 783 783 783 783\n",
      " 783 783 783 783 698 698 698 698 698 698 698 622 622 622 622 622 622 622\n",
      " 622 622 587 587 587 587 622 622 622 622 698 698 698 698 466 466 466 466\n",
      " 622 622 622 622 587 587 587 587 523 523 523 523 523 523 523 523 587 587\n",
      " 587 587 622 622 622 622 698 698 698 698 587 587 587 587 523 523 523 523\n",
      " 523 523 523 523 466 466 466 466 466 466 466 466]\n"
     ]
    }
   ],
   "source": [
    "def noteToFreq(note):\n",
    "    a = 440 #freque (coomon value is 440Hz)ncy of A\n",
    "    return (a / 32) * (2 ** ((note - 9) / 12))\n",
    "\n",
    "test_notes = np.array(pd.read_csv(training_dir + \"\\chorale_000.csv\")[\"note0\"])\n",
    "for t in range(len(test_notes)):\n",
    "    test_notes[t] = noteToFreq(test_notes[t])\n",
    "\n",
    "print(test_notes)     \n",
    "write(\"testy.wav\", 196, test_notes.astype(np.int16))                    "
   ]
  },
  {
   "cell_type": "code",
   "execution_count": 80,
   "id": "85c9b234",
   "metadata": {},
   "outputs": [
    {
     "name": "stdout",
     "output_type": "stream",
     "text": [
      "44100\n"
     ]
    }
   ],
   "source": [
    "from scipy.io.wavfile import write\n",
    "samplerate = 44100; fs = 200\n",
    "t = np.linspace(0., 1., samplerate)\n",
    "print(len(t))\n",
    "amplitude = np.iinfo(np.int16).max\n",
    "data = amplitude * np.sin(2. * np.pi * fs * t)\n",
    "write(\"example.wav\", samplerate, data.astype(np.int16))    "
   ]
  },
  {
   "cell_type": "code",
   "execution_count": null,
   "id": "c1e2c196",
   "metadata": {},
   "outputs": [],
   "source": []
  }
 ],
 "metadata": {
  "kernelspec": {
   "display_name": "Python 3 (ipykernel)",
   "language": "python",
   "name": "python3"
  },
  "language_info": {
   "codemirror_mode": {
    "name": "ipython",
    "version": 3
   },
   "file_extension": ".py",
   "mimetype": "text/x-python",
   "name": "python",
   "nbconvert_exporter": "python",
   "pygments_lexer": "ipython3",
   "version": "3.9.7"
  }
 },
 "nbformat": 4,
 "nbformat_minor": 5
}
